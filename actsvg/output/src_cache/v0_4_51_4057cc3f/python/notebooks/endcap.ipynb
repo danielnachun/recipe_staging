{
 "cells": [
  {
   "cell_type": "markdown",
   "metadata": {},
   "source": [
    "# Example: plotting an endcap detector disc\n",
    "\n",
    "This examples follows the `barrel.ipynb` and is adapted for encap views. \n",
    "\n",
    "It also demonstrates how can adjust colors for the objects."
   ]
  },
  {
   "cell_type": "code",
   "execution_count": 2,
   "metadata": {},
   "outputs": [],
   "source": [
    "# This will be needed to display the SVGs in the notebook\n",
    "from IPython.core.display import SVG\n",
    "\n",
    "# This is the actsvg module\n",
    "import actsvg\n",
    "from actsvg import core, examples, proto, display, style"
   ]
  },
  {
   "cell_type": "markdown",
   "metadata": {},
   "source": [
    "As we will be able to see the surfaces and not only the edges, we can give them some fill color, we go with empty colors first."
   ]
  },
  {
   "cell_type": "markdown",
   "metadata": {},
   "source": []
  },
  {
   "cell_type": "code",
   "execution_count": 3,
   "metadata": {},
   "outputs": [],
   "source": [
    "module_fill = style.fill()\n",
    "module_stroke = style.stroke()"
   ]
  },
  {
   "cell_type": "markdown",
   "metadata": {},
   "source": [
    "Continue as in the `barrel.ipynb` example."
   ]
  },
  {
   "cell_type": "code",
   "execution_count": 6,
   "metadata": {},
   "outputs": [],
   "source": [
    "# This reads from 'data/odd_pixel_endcap.hpp' and returns a list of polygons\n",
    "endcap_polygons = examples.generate_endcap_modules()\n",
    "# This part converts the point clouds into surface objects\n",
    "endcap_modules = []\n",
    "for i, polygon in enumerate(endcap_polygons):\n",
    "    endcap_modules.append(proto.surface.polygon_from_vertices('module_'+str(i), polygon, module_fill, module_stroke))\n",
    "\n",
    "modules_xy = display.surfaces(endcap_modules, 'xy')"
   ]
  },
  {
   "cell_type": "code",
   "execution_count": 4,
   "metadata": {},
   "outputs": [
    {
     "data": {
      "image/svg+xml": [
       "<svg xmlns=\"http://www.w3.org/2000/svg\" xmlns:xlink=\"http://www.w3.org/1999/xlink\" version=\"1.1\" width=\"800\" height=\"800\" viewBox=\"-224.814 -224.814 425.769 425.769\">\n",
       "<polygon id=\"module_0\" fill=\"rgb(255,255,255)\" fill-opacity=\"0\" points=\"42,-8.5 42,8.5 110,14.5 110,-14.5 \" stroke=\"rgb(0,0,0)\" stroke-opacity=\"1\" stroke-width=\"0.5\"/>\n",
       "<polygon id=\"module_1\" fill=\"rgb(255,255,255)\" fill-opacity=\"0\" points=\"38.37,-19.08 42.77,-2.66 110,-14.46 102.5,-42.48 \" stroke=\"rgb(0,0,0)\" stroke-opacity=\"1\" stroke-width=\"0.5\"/>\n",
       "<polygon id=\"module_2\" fill=\"rgb(255,255,255)\" fill-opacity=\"0\" points=\"-40.62,-13.64 -32.12,-28.36 -88.01,-67.56 -102.5,-42.44 \" stroke=\"rgb(0,0,0)\" stroke-opacity=\"1\" stroke-width=\"0.5\"/>\n",
       "<polygon id=\"module_3\" fill=\"rgb(255,255,255)\" fill-opacity=\"0\" points=\"-42.77,-2.66 -38.37,-19.08 -102.5,-42.48 -110,-14.46 \" stroke=\"rgb(0,0,0)\" stroke-opacity=\"1\" stroke-width=\"0.5\"/>\n",
       "<polygon id=\"module_4\" fill=\"rgb(255,255,255)\" fill-opacity=\"0\" points=\"-42,8.5 -42,-8.5 -110,-14.5 -110,14.5 \" stroke=\"rgb(0,0,0)\" stroke-opacity=\"1\" stroke-width=\"0.5\"/>\n",
       "<polygon id=\"module_5\" fill=\"rgb(255,255,255)\" fill-opacity=\"0\" points=\"-38.37,19.08 -42.77,2.66 -110,14.46 -102.5,42.48 \" stroke=\"rgb(0,0,0)\" stroke-opacity=\"1\" stroke-width=\"0.5\"/>\n",
       "<polygon id=\"module_6\" fill=\"rgb(255,255,255)\" fill-opacity=\"0\" points=\"-32.12,28.36 -40.62,13.64 -102.5,42.44 -88.01,67.56 \" stroke=\"rgb(0,0,0)\" stroke-opacity=\"1\" stroke-width=\"0.5\"/>\n",
       "<polygon id=\"module_7\" fill=\"rgb(255,255,255)\" fill-opacity=\"0\" points=\"-23.69,35.71 -35.71,23.69 -88.03,67.53 -67.53,88.03 \" stroke=\"rgb(0,0,0)\" stroke-opacity=\"1\" stroke-width=\"0.5\"/>\n",
       "<polygon id=\"module_8\" fill=\"rgb(255,255,255)\" fill-opacity=\"0\" points=\"-13.64,40.62 -28.36,32.12 -67.56,88.01 -42.44,102.5 \" stroke=\"rgb(0,0,0)\" stroke-opacity=\"1\" stroke-width=\"0.5\"/>\n",
       "<polygon id=\"module_9\" fill=\"rgb(255,255,255)\" fill-opacity=\"0\" points=\"-2.66,42.77 -19.08,38.37 -42.48,102.5 -14.46,110 \" stroke=\"rgb(0,0,0)\" stroke-opacity=\"1\" stroke-width=\"0.5\"/>\n",
       "<polygon id=\"module_10\" fill=\"rgb(255,255,255)\" fill-opacity=\"0\" points=\"8.5,42 -8.5,42 -14.5,110 14.5,110 \" stroke=\"rgb(0,0,0)\" stroke-opacity=\"1\" stroke-width=\"0.5\"/>\n",
       "<polygon id=\"module_11\" fill=\"rgb(255,255,255)\" fill-opacity=\"0\" points=\"19.08,38.37 2.66,42.77 14.46,110 42.48,102.5 \" stroke=\"rgb(0,0,0)\" stroke-opacity=\"1\" stroke-width=\"0.5\"/>\n",
       "<polygon id=\"module_12\" fill=\"rgb(255,255,255)\" fill-opacity=\"0\" points=\"32.12,-28.36 40.62,-13.64 102.5,-42.44 88.01,-67.56 \" stroke=\"rgb(0,0,0)\" stroke-opacity=\"1\" stroke-width=\"0.5\"/>\n",
       "<polygon id=\"module_13\" fill=\"rgb(255,255,255)\" fill-opacity=\"0\" points=\"28.36,32.12 13.64,40.62 42.44,102.5 67.56,88.01 \" stroke=\"rgb(0,0,0)\" stroke-opacity=\"1\" stroke-width=\"0.5\"/>\n",
       "<polygon id=\"module_14\" fill=\"rgb(255,255,255)\" fill-opacity=\"0\" points=\"35.71,23.69 23.69,35.71 67.53,88.03 88.03,67.53 \" stroke=\"rgb(0,0,0)\" stroke-opacity=\"1\" stroke-width=\"0.5\"/>\n",
       "<polygon id=\"module_15\" fill=\"rgb(255,255,255)\" fill-opacity=\"0\" points=\"40.62,13.64 32.12,28.36 88.01,67.56 102.5,42.44 \" stroke=\"rgb(0,0,0)\" stroke-opacity=\"1\" stroke-width=\"0.5\"/>\n",
       "<polygon id=\"module_16\" fill=\"rgb(255,255,255)\" fill-opacity=\"0\" points=\"42.77,2.66 38.37,19.08 102.5,42.48 110,14.46 \" stroke=\"rgb(0,0,0)\" stroke-opacity=\"1\" stroke-width=\"0.5\"/>\n",
       "<polygon id=\"module_17\" fill=\"rgb(255,255,255)\" fill-opacity=\"0\" points=\"23.69,-35.71 35.71,-23.69 88.03,-67.53 67.53,-88.03 \" stroke=\"rgb(0,0,0)\" stroke-opacity=\"1\" stroke-width=\"0.5\"/>\n",
       "<polygon id=\"module_18\" fill=\"rgb(255,255,255)\" fill-opacity=\"0\" points=\"13.64,-40.62 28.36,-32.12 67.56,-88.01 42.44,-102.5 \" stroke=\"rgb(0,0,0)\" stroke-opacity=\"1\" stroke-width=\"0.5\"/>\n",
       "<polygon id=\"module_19\" fill=\"rgb(255,255,255)\" fill-opacity=\"0\" points=\"2.66,-42.77 19.08,-38.37 42.48,-102.5 14.46,-110 \" stroke=\"rgb(0,0,0)\" stroke-opacity=\"1\" stroke-width=\"0.5\"/>\n",
       "<polygon id=\"module_20\" fill=\"rgb(255,255,255)\" fill-opacity=\"0\" points=\"-8.5,-42 8.5,-42 14.5,-110 -14.5,-110 \" stroke=\"rgb(0,0,0)\" stroke-opacity=\"1\" stroke-width=\"0.5\"/>\n",
       "<polygon id=\"module_21\" fill=\"rgb(255,255,255)\" fill-opacity=\"0\" points=\"-19.08,-38.37 -2.66,-42.77 -14.46,-110 -42.48,-102.5 \" stroke=\"rgb(0,0,0)\" stroke-opacity=\"1\" stroke-width=\"0.5\"/>\n",
       "<polygon id=\"module_22\" fill=\"rgb(255,255,255)\" fill-opacity=\"0\" points=\"-28.36,-32.12 -13.64,-40.62 -42.44,-102.5 -67.56,-88.01 \" stroke=\"rgb(0,0,0)\" stroke-opacity=\"1\" stroke-width=\"0.5\"/>\n",
       "<polygon id=\"module_23\" fill=\"rgb(255,255,255)\" fill-opacity=\"0\" points=\"-35.71,-23.69 -23.69,-35.71 -67.53,-88.03 -88.03,-67.53 \" stroke=\"rgb(0,0,0)\" stroke-opacity=\"1\" stroke-width=\"0.5\"/>\n",
       "<polygon id=\"module_24\" fill=\"rgb(255,255,255)\" fill-opacity=\"0\" points=\"105,-10.5 105,10.5 173,16.5 173,-16.5 \" stroke=\"rgb(0,0,0)\" stroke-opacity=\"1\" stroke-width=\"0.5\"/>\n",
       "<polygon id=\"module_25\" fill=\"rgb(255,255,255)\" fill-opacity=\"0\" points=\"101.6,-28.57 105.2,-7.893 173.2,-13.79 167.5,-46.29 \" stroke=\"rgb(0,0,0)\" stroke-opacity=\"1\" stroke-width=\"0.5\"/>\n",
       "<polygon id=\"module_26\" fill=\"rgb(255,255,255)\" fill-opacity=\"0\" points=\"-28.57,-101.6 -7.893,-105.2 -13.79,-173.2 -46.29,-167.5 \" stroke=\"rgb(0,0,0)\" stroke-opacity=\"1\" stroke-width=\"0.5\"/>\n",
       "<polygon id=\"module_27\" fill=\"rgb(255,255,255)\" fill-opacity=\"0\" points=\"-45.78,-95.08 -26.05,-102.3 -43.66,-168.2 -74.67,-156.9 \" stroke=\"rgb(0,0,0)\" stroke-opacity=\"1\" stroke-width=\"0.5\"/>\n",
       "<polygon id=\"module_28\" fill=\"rgb(255,255,255)\" fill-opacity=\"0\" points=\"-61.59,-85.68 -43.41,-96.18 -72.21,-158.1 -100.8,-141.6 \" stroke=\"rgb(0,0,0)\" stroke-opacity=\"1\" stroke-width=\"0.5\"/>\n",
       "<polygon id=\"module_29\" fill=\"rgb(255,255,255)\" fill-opacity=\"0\" points=\"-75.54,-73.69 -59.45,-87.18 -98.56,-143.1 -123.8,-121.9 \" stroke=\"rgb(0,0,0)\" stroke-opacity=\"1\" stroke-width=\"0.5\"/>\n",
       "<polygon id=\"module_30\" fill=\"rgb(255,255,255)\" fill-opacity=\"0\" points=\"-87.18,-59.45 -73.69,-75.54 -121.9,-123.8 -143.1,-98.56 \" stroke=\"rgb(0,0,0)\" stroke-opacity=\"1\" stroke-width=\"0.5\"/>\n",
       "<polygon id=\"module_31\" fill=\"rgb(255,255,255)\" fill-opacity=\"0\" points=\"-96.18,-43.41 -85.68,-61.59 -141.6,-100.8 -158.1,-72.21 \" stroke=\"rgb(0,0,0)\" stroke-opacity=\"1\" stroke-width=\"0.5\"/>\n",
       "<polygon id=\"module_32\" fill=\"rgb(255,255,255)\" fill-opacity=\"0\" points=\"-102.3,-26.05 -95.08,-45.78 -156.9,-74.67 -168.2,-43.66 \" stroke=\"rgb(0,0,0)\" stroke-opacity=\"1\" stroke-width=\"0.5\"/>\n",
       "<polygon id=\"module_33\" fill=\"rgb(255,255,255)\" fill-opacity=\"0\" points=\"-105.2,-7.893 -101.6,-28.57 -167.5,-46.29 -173.2,-13.79 \" stroke=\"rgb(0,0,0)\" stroke-opacity=\"1\" stroke-width=\"0.5\"/>\n",
       "<polygon id=\"module_34\" fill=\"rgb(255,255,255)\" fill-opacity=\"0\" points=\"-105,10.5 -105,-10.5 -173,-16.5 -173,16.5 \" stroke=\"rgb(0,0,0)\" stroke-opacity=\"1\" stroke-width=\"0.5\"/>\n",
       "<polygon id=\"module_35\" fill=\"rgb(255,255,255)\" fill-opacity=\"0\" points=\"-101.6,28.57 -105.2,7.893 -173.2,13.79 -167.5,46.29 \" stroke=\"rgb(0,0,0)\" stroke-opacity=\"1\" stroke-width=\"0.5\"/>\n",
       "<polygon id=\"module_36\" fill=\"rgb(255,255,255)\" fill-opacity=\"0\" points=\"95.08,-45.78 102.3,-26.05 168.2,-43.66 156.9,-74.67 \" stroke=\"rgb(0,0,0)\" stroke-opacity=\"1\" stroke-width=\"0.5\"/>\n",
       "<polygon id=\"module_37\" fill=\"rgb(255,255,255)\" fill-opacity=\"0\" points=\"-95.08,45.78 -102.3,26.05 -168.2,43.66 -156.9,74.67 \" stroke=\"rgb(0,0,0)\" stroke-opacity=\"1\" stroke-width=\"0.5\"/>\n",
       "<polygon id=\"module_38\" fill=\"rgb(255,255,255)\" fill-opacity=\"0\" points=\"-85.68,61.59 -96.18,43.41 -158.1,72.21 -141.6,100.8 \" stroke=\"rgb(0,0,0)\" stroke-opacity=\"1\" stroke-width=\"0.5\"/>\n",
       "<polygon id=\"module_39\" fill=\"rgb(255,255,255)\" fill-opacity=\"0\" points=\"-73.69,75.54 -87.18,59.45 -143.1,98.56 -121.9,123.8 \" stroke=\"rgb(0,0,0)\" stroke-opacity=\"1\" stroke-width=\"0.5\"/>\n",
       "<polygon id=\"module_40\" fill=\"rgb(255,255,255)\" fill-opacity=\"0\" points=\"-59.45,87.18 -75.54,73.69 -123.8,121.9 -98.56,143.1 \" stroke=\"rgb(0,0,0)\" stroke-opacity=\"1\" stroke-width=\"0.5\"/>\n",
       "<polygon id=\"module_41\" fill=\"rgb(255,255,255)\" fill-opacity=\"0\" points=\"-43.41,96.18 -61.59,85.68 -100.8,141.6 -72.21,158.1 \" stroke=\"rgb(0,0,0)\" stroke-opacity=\"1\" stroke-width=\"0.5\"/>\n",
       "<polygon id=\"module_42\" fill=\"rgb(255,255,255)\" fill-opacity=\"0\" points=\"-26.05,102.3 -45.78,95.08 -74.67,156.9 -43.66,168.2 \" stroke=\"rgb(0,0,0)\" stroke-opacity=\"1\" stroke-width=\"0.5\"/>\n",
       "<polygon id=\"module_43\" fill=\"rgb(255,255,255)\" fill-opacity=\"0\" points=\"-7.893,105.2 -28.57,101.6 -46.29,167.5 -13.79,173.2 \" stroke=\"rgb(0,0,0)\" stroke-opacity=\"1\" stroke-width=\"0.5\"/>\n",
       "<polygon id=\"module_44\" fill=\"rgb(255,255,255)\" fill-opacity=\"0\" points=\"10.5,105 -10.5,105 -16.5,173 16.5,173 \" stroke=\"rgb(0,0,0)\" stroke-opacity=\"1\" stroke-width=\"0.5\"/>\n",
       "<polygon id=\"module_45\" fill=\"rgb(255,255,255)\" fill-opacity=\"0\" points=\"28.57,101.6 7.893,105.2 13.79,173.2 46.29,167.5 \" stroke=\"rgb(0,0,0)\" stroke-opacity=\"1\" stroke-width=\"0.5\"/>\n",
       "<polygon id=\"module_46\" fill=\"rgb(255,255,255)\" fill-opacity=\"0\" points=\"45.78,95.08 26.05,102.3 43.66,168.2 74.67,156.9 \" stroke=\"rgb(0,0,0)\" stroke-opacity=\"1\" stroke-width=\"0.5\"/>\n",
       "<polygon id=\"module_47\" fill=\"rgb(255,255,255)\" fill-opacity=\"0\" points=\"85.68,-61.59 96.18,-43.41 158.1,-72.21 141.6,-100.8 \" stroke=\"rgb(0,0,0)\" stroke-opacity=\"1\" stroke-width=\"0.5\"/>\n",
       "<polygon id=\"module_48\" fill=\"rgb(255,255,255)\" fill-opacity=\"0\" points=\"61.59,85.68 43.41,96.18 72.21,158.1 100.8,141.6 \" stroke=\"rgb(0,0,0)\" stroke-opacity=\"1\" stroke-width=\"0.5\"/>\n",
       "<polygon id=\"module_49\" fill=\"rgb(255,255,255)\" fill-opacity=\"0\" points=\"75.54,73.69 59.45,87.18 98.56,143.1 123.8,121.9 \" stroke=\"rgb(0,0,0)\" stroke-opacity=\"1\" stroke-width=\"0.5\"/>\n",
       "<polygon id=\"module_50\" fill=\"rgb(255,255,255)\" fill-opacity=\"0\" points=\"87.18,59.45 73.69,75.54 121.9,123.8 143.1,98.56 \" stroke=\"rgb(0,0,0)\" stroke-opacity=\"1\" stroke-width=\"0.5\"/>\n",
       "<polygon id=\"module_51\" fill=\"rgb(255,255,255)\" fill-opacity=\"0\" points=\"96.18,43.41 85.68,61.59 141.6,100.8 158.1,72.21 \" stroke=\"rgb(0,0,0)\" stroke-opacity=\"1\" stroke-width=\"0.5\"/>\n",
       "<polygon id=\"module_52\" fill=\"rgb(255,255,255)\" fill-opacity=\"0\" points=\"102.3,26.05 95.08,45.78 156.9,74.67 168.2,43.66 \" stroke=\"rgb(0,0,0)\" stroke-opacity=\"1\" stroke-width=\"0.5\"/>\n",
       "<polygon id=\"module_53\" fill=\"rgb(255,255,255)\" fill-opacity=\"0\" points=\"105.2,7.893 101.6,28.57 167.5,46.29 173.2,13.79 \" stroke=\"rgb(0,0,0)\" stroke-opacity=\"1\" stroke-width=\"0.5\"/>\n",
       "<polygon id=\"module_54\" fill=\"rgb(255,255,255)\" fill-opacity=\"0\" points=\"73.69,-75.54 87.18,-59.45 143.1,-98.56 121.9,-123.8 \" stroke=\"rgb(0,0,0)\" stroke-opacity=\"1\" stroke-width=\"0.5\"/>\n",
       "<polygon id=\"module_55\" fill=\"rgb(255,255,255)\" fill-opacity=\"0\" points=\"59.45,-87.18 75.54,-73.69 123.8,-121.9 98.56,-143.1 \" stroke=\"rgb(0,0,0)\" stroke-opacity=\"1\" stroke-width=\"0.5\"/>\n",
       "<polygon id=\"module_56\" fill=\"rgb(255,255,255)\" fill-opacity=\"0\" points=\"43.41,-96.18 61.59,-85.68 100.8,-141.6 72.21,-158.1 \" stroke=\"rgb(0,0,0)\" stroke-opacity=\"1\" stroke-width=\"0.5\"/>\n",
       "<polygon id=\"module_57\" fill=\"rgb(255,255,255)\" fill-opacity=\"0\" points=\"26.05,-102.3 45.78,-95.08 74.67,-156.9 43.66,-168.2 \" stroke=\"rgb(0,0,0)\" stroke-opacity=\"1\" stroke-width=\"0.5\"/>\n",
       "<polygon id=\"module_58\" fill=\"rgb(255,255,255)\" fill-opacity=\"0\" points=\"7.893,-105.2 28.57,-101.6 46.29,-167.5 13.79,-173.2 \" stroke=\"rgb(0,0,0)\" stroke-opacity=\"1\" stroke-width=\"0.5\"/>\n",
       "<polygon id=\"module_59\" fill=\"rgb(255,255,255)\" fill-opacity=\"0\" points=\"-10.5,-105 10.5,-105 16.5,-173 -16.5,-173 \" stroke=\"rgb(0,0,0)\" stroke-opacity=\"1\" stroke-width=\"0.5\"/>\n",
       "</svg>"
      ],
      "text/plain": [
       "<IPython.core.display.SVG object>"
      ]
     },
     "execution_count": 4,
     "metadata": {},
     "output_type": "execute_result"
    }
   ],
   "source": [
    "m_xy_file = actsvg.io.file()\n",
    "m_xy_file.add_objects(modules_xy)\n",
    "m_xy_file.write(\"endcap_modules_xy.svg\")\n",
    "SVG(filename='endcap_modules_xy.svg')"
   ]
  },
  {
   "cell_type": "markdown",
   "metadata": {},
   "source": [
    "Let us plot only part of the disk, e.g. the innermost ones.\n",
    "\n",
    "In this block, we also assign a color to the surface object, in this case the default color for sensitive surfaces with highlighting."
   ]
  },
  {
   "cell_type": "code",
   "execution_count": 7,
   "metadata": {
    "vscode": {
     "languageId": "ruby"
    }
   },
   "outputs": [
    {
     "data": {
      "image/svg+xml": [
       "<svg xmlns=\"http://www.w3.org/2000/svg\" xmlns:xlink=\"http://www.w3.org/1999/xlink\" version=\"1.1\" width=\"800\" height=\"800\" viewBox=\"-146.406 -146.406 274.012 274.012\">\n",
       "<polygon id=\"module_0\" fill=\"rgb(66,182,245)\" fill-opacity=\"0.75\" points=\"42,-8.5 42,8.5 110,14.5 110,-14.5 \" stroke=\"rgb(0,0,0)\" stroke-opacity=\"1\" stroke-width=\"0.5\">\n",
       "<set attributeName=\"fill\" begin=\"mouseover\" end=\"mouseout\" fill=\"rgb(255,255,255)\" fill-opacity=\"0\" stroke=\"rgb(0,0,0)\" stroke-opacity=\"1\" stroke-width=\"0.5\" to=\"rgb(245,182,66)\"/>\n",
       "</polygon>\n",
       "<polygon id=\"module_1\" fill=\"rgb(66,182,245)\" fill-opacity=\"0.75\" points=\"38.37,-19.08 42.77,-2.66 110,-14.46 102.5,-42.48 \" stroke=\"rgb(0,0,0)\" stroke-opacity=\"1\" stroke-width=\"0.5\">\n",
       "<set attributeName=\"fill\" begin=\"mouseover\" end=\"mouseout\" fill=\"rgb(255,255,255)\" fill-opacity=\"0\" stroke=\"rgb(0,0,0)\" stroke-opacity=\"1\" stroke-width=\"0.5\" to=\"rgb(245,182,66)\"/>\n",
       "</polygon>\n",
       "<polygon id=\"module_2\" fill=\"rgb(66,182,245)\" fill-opacity=\"0.75\" points=\"-40.62,-13.64 -32.12,-28.36 -88.01,-67.56 -102.5,-42.44 \" stroke=\"rgb(0,0,0)\" stroke-opacity=\"1\" stroke-width=\"0.5\">\n",
       "<set attributeName=\"fill\" begin=\"mouseover\" end=\"mouseout\" fill=\"rgb(255,255,255)\" fill-opacity=\"0\" stroke=\"rgb(0,0,0)\" stroke-opacity=\"1\" stroke-width=\"0.5\" to=\"rgb(245,182,66)\"/>\n",
       "</polygon>\n",
       "<polygon id=\"module_3\" fill=\"rgb(66,182,245)\" fill-opacity=\"0.75\" points=\"-42.77,-2.66 -38.37,-19.08 -102.5,-42.48 -110,-14.46 \" stroke=\"rgb(0,0,0)\" stroke-opacity=\"1\" stroke-width=\"0.5\">\n",
       "<set attributeName=\"fill\" begin=\"mouseover\" end=\"mouseout\" fill=\"rgb(255,255,255)\" fill-opacity=\"0\" stroke=\"rgb(0,0,0)\" stroke-opacity=\"1\" stroke-width=\"0.5\" to=\"rgb(245,182,66)\"/>\n",
       "</polygon>\n",
       "<polygon id=\"module_4\" fill=\"rgb(66,182,245)\" fill-opacity=\"0.75\" points=\"-42,8.5 -42,-8.5 -110,-14.5 -110,14.5 \" stroke=\"rgb(0,0,0)\" stroke-opacity=\"1\" stroke-width=\"0.5\">\n",
       "<set attributeName=\"fill\" begin=\"mouseover\" end=\"mouseout\" fill=\"rgb(255,255,255)\" fill-opacity=\"0\" stroke=\"rgb(0,0,0)\" stroke-opacity=\"1\" stroke-width=\"0.5\" to=\"rgb(245,182,66)\"/>\n",
       "</polygon>\n",
       "<polygon id=\"module_5\" fill=\"rgb(66,182,245)\" fill-opacity=\"0.75\" points=\"-38.37,19.08 -42.77,2.66 -110,14.46 -102.5,42.48 \" stroke=\"rgb(0,0,0)\" stroke-opacity=\"1\" stroke-width=\"0.5\">\n",
       "<set attributeName=\"fill\" begin=\"mouseover\" end=\"mouseout\" fill=\"rgb(255,255,255)\" fill-opacity=\"0\" stroke=\"rgb(0,0,0)\" stroke-opacity=\"1\" stroke-width=\"0.5\" to=\"rgb(245,182,66)\"/>\n",
       "</polygon>\n",
       "<polygon id=\"module_6\" fill=\"rgb(66,182,245)\" fill-opacity=\"0.75\" points=\"-32.12,28.36 -40.62,13.64 -102.5,42.44 -88.01,67.56 \" stroke=\"rgb(0,0,0)\" stroke-opacity=\"1\" stroke-width=\"0.5\">\n",
       "<set attributeName=\"fill\" begin=\"mouseover\" end=\"mouseout\" fill=\"rgb(255,255,255)\" fill-opacity=\"0\" stroke=\"rgb(0,0,0)\" stroke-opacity=\"1\" stroke-width=\"0.5\" to=\"rgb(245,182,66)\"/>\n",
       "</polygon>\n",
       "<polygon id=\"module_7\" fill=\"rgb(66,182,245)\" fill-opacity=\"0.75\" points=\"-23.69,35.71 -35.71,23.69 -88.03,67.53 -67.53,88.03 \" stroke=\"rgb(0,0,0)\" stroke-opacity=\"1\" stroke-width=\"0.5\">\n",
       "<set attributeName=\"fill\" begin=\"mouseover\" end=\"mouseout\" fill=\"rgb(255,255,255)\" fill-opacity=\"0\" stroke=\"rgb(0,0,0)\" stroke-opacity=\"1\" stroke-width=\"0.5\" to=\"rgb(245,182,66)\"/>\n",
       "</polygon>\n",
       "<polygon id=\"module_8\" fill=\"rgb(66,182,245)\" fill-opacity=\"0.75\" points=\"-13.64,40.62 -28.36,32.12 -67.56,88.01 -42.44,102.5 \" stroke=\"rgb(0,0,0)\" stroke-opacity=\"1\" stroke-width=\"0.5\">\n",
       "<set attributeName=\"fill\" begin=\"mouseover\" end=\"mouseout\" fill=\"rgb(255,255,255)\" fill-opacity=\"0\" stroke=\"rgb(0,0,0)\" stroke-opacity=\"1\" stroke-width=\"0.5\" to=\"rgb(245,182,66)\"/>\n",
       "</polygon>\n",
       "<polygon id=\"module_9\" fill=\"rgb(66,182,245)\" fill-opacity=\"0.75\" points=\"-2.66,42.77 -19.08,38.37 -42.48,102.5 -14.46,110 \" stroke=\"rgb(0,0,0)\" stroke-opacity=\"1\" stroke-width=\"0.5\">\n",
       "<set attributeName=\"fill\" begin=\"mouseover\" end=\"mouseout\" fill=\"rgb(255,255,255)\" fill-opacity=\"0\" stroke=\"rgb(0,0,0)\" stroke-opacity=\"1\" stroke-width=\"0.5\" to=\"rgb(245,182,66)\"/>\n",
       "</polygon>\n",
       "<polygon id=\"module_10\" fill=\"rgb(66,182,245)\" fill-opacity=\"0.75\" points=\"8.5,42 -8.5,42 -14.5,110 14.5,110 \" stroke=\"rgb(0,0,0)\" stroke-opacity=\"1\" stroke-width=\"0.5\">\n",
       "<set attributeName=\"fill\" begin=\"mouseover\" end=\"mouseout\" fill=\"rgb(255,255,255)\" fill-opacity=\"0\" stroke=\"rgb(0,0,0)\" stroke-opacity=\"1\" stroke-width=\"0.5\" to=\"rgb(245,182,66)\"/>\n",
       "</polygon>\n",
       "<polygon id=\"module_11\" fill=\"rgb(66,182,245)\" fill-opacity=\"0.75\" points=\"19.08,38.37 2.66,42.77 14.46,110 42.48,102.5 \" stroke=\"rgb(0,0,0)\" stroke-opacity=\"1\" stroke-width=\"0.5\">\n",
       "<set attributeName=\"fill\" begin=\"mouseover\" end=\"mouseout\" fill=\"rgb(255,255,255)\" fill-opacity=\"0\" stroke=\"rgb(0,0,0)\" stroke-opacity=\"1\" stroke-width=\"0.5\" to=\"rgb(245,182,66)\"/>\n",
       "</polygon>\n",
       "<polygon id=\"module_12\" fill=\"rgb(66,182,245)\" fill-opacity=\"0.75\" points=\"32.12,-28.36 40.62,-13.64 102.5,-42.44 88.01,-67.56 \" stroke=\"rgb(0,0,0)\" stroke-opacity=\"1\" stroke-width=\"0.5\">\n",
       "<set attributeName=\"fill\" begin=\"mouseover\" end=\"mouseout\" fill=\"rgb(255,255,255)\" fill-opacity=\"0\" stroke=\"rgb(0,0,0)\" stroke-opacity=\"1\" stroke-width=\"0.5\" to=\"rgb(245,182,66)\"/>\n",
       "</polygon>\n",
       "<polygon id=\"module_13\" fill=\"rgb(66,182,245)\" fill-opacity=\"0.75\" points=\"28.36,32.12 13.64,40.62 42.44,102.5 67.56,88.01 \" stroke=\"rgb(0,0,0)\" stroke-opacity=\"1\" stroke-width=\"0.5\">\n",
       "<set attributeName=\"fill\" begin=\"mouseover\" end=\"mouseout\" fill=\"rgb(255,255,255)\" fill-opacity=\"0\" stroke=\"rgb(0,0,0)\" stroke-opacity=\"1\" stroke-width=\"0.5\" to=\"rgb(245,182,66)\"/>\n",
       "</polygon>\n",
       "<polygon id=\"module_14\" fill=\"rgb(66,182,245)\" fill-opacity=\"0.75\" points=\"35.71,23.69 23.69,35.71 67.53,88.03 88.03,67.53 \" stroke=\"rgb(0,0,0)\" stroke-opacity=\"1\" stroke-width=\"0.5\">\n",
       "<set attributeName=\"fill\" begin=\"mouseover\" end=\"mouseout\" fill=\"rgb(255,255,255)\" fill-opacity=\"0\" stroke=\"rgb(0,0,0)\" stroke-opacity=\"1\" stroke-width=\"0.5\" to=\"rgb(245,182,66)\"/>\n",
       "</polygon>\n",
       "<polygon id=\"module_15\" fill=\"rgb(66,182,245)\" fill-opacity=\"0.75\" points=\"40.62,13.64 32.12,28.36 88.01,67.56 102.5,42.44 \" stroke=\"rgb(0,0,0)\" stroke-opacity=\"1\" stroke-width=\"0.5\">\n",
       "<set attributeName=\"fill\" begin=\"mouseover\" end=\"mouseout\" fill=\"rgb(255,255,255)\" fill-opacity=\"0\" stroke=\"rgb(0,0,0)\" stroke-opacity=\"1\" stroke-width=\"0.5\" to=\"rgb(245,182,66)\"/>\n",
       "</polygon>\n",
       "<polygon id=\"module_16\" fill=\"rgb(66,182,245)\" fill-opacity=\"0.75\" points=\"42.77,2.66 38.37,19.08 102.5,42.48 110,14.46 \" stroke=\"rgb(0,0,0)\" stroke-opacity=\"1\" stroke-width=\"0.5\">\n",
       "<set attributeName=\"fill\" begin=\"mouseover\" end=\"mouseout\" fill=\"rgb(255,255,255)\" fill-opacity=\"0\" stroke=\"rgb(0,0,0)\" stroke-opacity=\"1\" stroke-width=\"0.5\" to=\"rgb(245,182,66)\"/>\n",
       "</polygon>\n",
       "<polygon id=\"module_17\" fill=\"rgb(66,182,245)\" fill-opacity=\"0.75\" points=\"23.69,-35.71 35.71,-23.69 88.03,-67.53 67.53,-88.03 \" stroke=\"rgb(0,0,0)\" stroke-opacity=\"1\" stroke-width=\"0.5\">\n",
       "<set attributeName=\"fill\" begin=\"mouseover\" end=\"mouseout\" fill=\"rgb(255,255,255)\" fill-opacity=\"0\" stroke=\"rgb(0,0,0)\" stroke-opacity=\"1\" stroke-width=\"0.5\" to=\"rgb(245,182,66)\"/>\n",
       "</polygon>\n",
       "<polygon id=\"module_18\" fill=\"rgb(66,182,245)\" fill-opacity=\"0.75\" points=\"13.64,-40.62 28.36,-32.12 67.56,-88.01 42.44,-102.5 \" stroke=\"rgb(0,0,0)\" stroke-opacity=\"1\" stroke-width=\"0.5\">\n",
       "<set attributeName=\"fill\" begin=\"mouseover\" end=\"mouseout\" fill=\"rgb(255,255,255)\" fill-opacity=\"0\" stroke=\"rgb(0,0,0)\" stroke-opacity=\"1\" stroke-width=\"0.5\" to=\"rgb(245,182,66)\"/>\n",
       "</polygon>\n",
       "<polygon id=\"module_19\" fill=\"rgb(66,182,245)\" fill-opacity=\"0.75\" points=\"2.66,-42.77 19.08,-38.37 42.48,-102.5 14.46,-110 \" stroke=\"rgb(0,0,0)\" stroke-opacity=\"1\" stroke-width=\"0.5\">\n",
       "<set attributeName=\"fill\" begin=\"mouseover\" end=\"mouseout\" fill=\"rgb(255,255,255)\" fill-opacity=\"0\" stroke=\"rgb(0,0,0)\" stroke-opacity=\"1\" stroke-width=\"0.5\" to=\"rgb(245,182,66)\"/>\n",
       "</polygon>\n",
       "<polygon id=\"module_20\" fill=\"rgb(66,182,245)\" fill-opacity=\"0.75\" points=\"-8.5,-42 8.5,-42 14.5,-110 -14.5,-110 \" stroke=\"rgb(0,0,0)\" stroke-opacity=\"1\" stroke-width=\"0.5\">\n",
       "<set attributeName=\"fill\" begin=\"mouseover\" end=\"mouseout\" fill=\"rgb(255,255,255)\" fill-opacity=\"0\" stroke=\"rgb(0,0,0)\" stroke-opacity=\"1\" stroke-width=\"0.5\" to=\"rgb(245,182,66)\"/>\n",
       "</polygon>\n",
       "<polygon id=\"module_21\" fill=\"rgb(66,182,245)\" fill-opacity=\"0.75\" points=\"-19.08,-38.37 -2.66,-42.77 -14.46,-110 -42.48,-102.5 \" stroke=\"rgb(0,0,0)\" stroke-opacity=\"1\" stroke-width=\"0.5\">\n",
       "<set attributeName=\"fill\" begin=\"mouseover\" end=\"mouseout\" fill=\"rgb(255,255,255)\" fill-opacity=\"0\" stroke=\"rgb(0,0,0)\" stroke-opacity=\"1\" stroke-width=\"0.5\" to=\"rgb(245,182,66)\"/>\n",
       "</polygon>\n",
       "<polygon id=\"module_22\" fill=\"rgb(66,182,245)\" fill-opacity=\"0.75\" points=\"-28.36,-32.12 -13.64,-40.62 -42.44,-102.5 -67.56,-88.01 \" stroke=\"rgb(0,0,0)\" stroke-opacity=\"1\" stroke-width=\"0.5\">\n",
       "<set attributeName=\"fill\" begin=\"mouseover\" end=\"mouseout\" fill=\"rgb(255,255,255)\" fill-opacity=\"0\" stroke=\"rgb(0,0,0)\" stroke-opacity=\"1\" stroke-width=\"0.5\" to=\"rgb(245,182,66)\"/>\n",
       "</polygon>\n",
       "<polygon id=\"module_23\" fill=\"rgb(66,182,245)\" fill-opacity=\"0.75\" points=\"-35.71,-23.69 -23.69,-35.71 -67.53,-88.03 -88.03,-67.53 \" stroke=\"rgb(0,0,0)\" stroke-opacity=\"1\" stroke-width=\"0.5\">\n",
       "<set attributeName=\"fill\" begin=\"mouseover\" end=\"mouseout\" fill=\"rgb(255,255,255)\" fill-opacity=\"0\" stroke=\"rgb(0,0,0)\" stroke-opacity=\"1\" stroke-width=\"0.5\" to=\"rgb(245,182,66)\"/>\n",
       "</polygon>\n",
       "</svg>"
      ],
      "text/plain": [
       "<IPython.core.display.SVG object>"
      ]
     },
     "execution_count": 7,
     "metadata": {},
     "output_type": "execute_result"
    }
   ],
   "source": [
    "# Display only the first 24 modules in the xy plane\n",
    "inner_modules = [m for i,m in enumerate(endcap_modules) if i < 24]\n",
    "# lets change the color\n",
    "for m in inner_modules :\n",
    "    m.fill = style.defaults.sensitive_fill()\n",
    "# display the modules    \n",
    "modules_inner_xy = display.surfaces(inner_modules, 'xy')\n",
    "m_inner_xy_file = actsvg.io.file()\n",
    "m_inner_xy_file.add_objects(modules_inner_xy)\n",
    "m_inner_xy_file.write(\"endcap_inner_modules_xy.svg\")\n",
    "SVG(filename='endcap_inner_modules_xy.svg')"
   ]
  },
  {
   "cell_type": "code",
   "execution_count": null,
   "metadata": {},
   "outputs": [],
   "source": []
  }
 ],
 "metadata": {
  "kernelspec": {
   "display_name": ".venv",
   "language": "python",
   "name": "python3"
  },
  "language_info": {
   "codemirror_mode": {
    "name": "ipython",
    "version": 3
   },
   "file_extension": ".py",
   "mimetype": "text/x-python",
   "name": "python",
   "nbconvert_exporter": "python",
   "pygments_lexer": "ipython3",
   "version": "3.11.6"
  }
 },
 "nbformat": 4,
 "nbformat_minor": 2
}
