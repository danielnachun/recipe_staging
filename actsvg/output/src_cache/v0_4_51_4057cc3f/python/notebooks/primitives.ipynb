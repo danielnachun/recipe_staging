{
 "cells": [
  {
   "cell_type": "markdown",
   "metadata": {},
   "source": [
    "# Example: Drawing primitives"
   ]
  },
  {
   "cell_type": "code",
   "execution_count": 2,
   "metadata": {},
   "outputs": [],
   "source": [
    "# This will be needed to display the SVGs in the notebook\n",
    "from IPython.core.display import SVG\n",
    "\n",
    "# This is the actsvg module\n",
    "import actsvg\n",
    "from actsvg import core, draw, style\n"
   ]
  },
  {
   "cell_type": "markdown",
   "metadata": {},
   "source": [
    "The draw primitives are the tools most of the more complicated objects are built from, they can be added to any svg object at your convenience."
   ]
  },
  {
   "cell_type": "markdown",
   "metadata": {},
   "source": [
    "## Drawing a line\n",
    "\n",
    "This is an example of drawing a simple line from (0,0) to (100,100). \n",
    "Style and transform can be customized."
   ]
  },
  {
   "cell_type": "code",
   "execution_count": 6,
   "metadata": {},
   "outputs": [
    {
     "data": {
      "image/svg+xml": [
       "<svg xmlns=\"http://www.w3.org/2000/svg\" xmlns:xlink=\"http://www.w3.org/1999/xlink\" version=\"1.1\" width=\"800\" height=\"800\" viewBox=\"-22 -122 130 130\">\n",
       "<line id=\"line\" fill=\"rgb(255,255,255)\" fill-opacity=\"0\" stroke=\"rgb(0,0,0)\" stroke-opacity=\"1\" stroke-width=\"0.5\" x1=\"0\" x2=\"100\" y1=\"-0\" y2=\"-100\"/>\n",
       "</svg>"
      ],
      "text/plain": [
       "<IPython.core.display.SVG object>"
      ]
     },
     "execution_count": 6,
     "metadata": {},
     "output_type": "execute_result"
    }
   ],
   "source": [
    "line = draw.line('line', [0,0], [100,100], style.stroke(), style.transform())\n",
    "line_file = actsvg.io.file()\n",
    "line_file.add_object(line)\n",
    "line_file.write(\"line.svg\")\n",
    "SVG(filename='line.svg')"
   ]
  },
  {
   "cell_type": "markdown",
   "metadata": {},
   "source": [
    "## Drawing an Arc\n",
    "\n",
    "This shows how to draw an arc, this is based on the SVG arc definitions"
   ]
  },
  {
   "cell_type": "code",
   "execution_count": 10,
   "metadata": {},
   "outputs": [
    {
     "data": {
      "image/svg+xml": [
       "<svg xmlns=\"http://www.w3.org/2000/svg\" xmlns:xlink=\"http://www.w3.org/1999/xlink\" version=\"1.1\" width=\"800\" height=\"800\" viewBox=\"-11.2 -122 22 130\">\n",
       "<path id=\"arc\" d=\"M 0 -0 A 10 10 0 0 0 10 -100\" fill=\"rgb(255,255,255)\" fill-opacity=\"0\" stroke=\"rgb(0,0,0)\" stroke-opacity=\"1\" stroke-width=\"0.5\"/>\n",
       "</svg>"
      ],
      "text/plain": [
       "<IPython.core.display.SVG object>"
      ]
     },
     "execution_count": 10,
     "metadata": {},
     "output_type": "execute_result"
    }
   ],
   "source": [
    "arc = draw.arc('arc', 10., [0,0], [10,100], style.fill(), style.stroke(), style.transform())\n",
    "arc_file = actsvg.io.file()\n",
    "arc_file.add_object(arc)\n",
    "arc_file.write(\"arc.svg\")\n",
    "SVG(filename='arc.svg')"
   ]
  },
  {
   "cell_type": "code",
   "execution_count": null,
   "metadata": {},
   "outputs": [],
   "source": []
  }
 ],
 "metadata": {
  "kernelspec": {
   "display_name": ".venv",
   "language": "python",
   "name": "python3"
  },
  "language_info": {
   "codemirror_mode": {
    "name": "ipython",
    "version": 3
   },
   "file_extension": ".py",
   "mimetype": "text/x-python",
   "name": "python",
   "nbconvert_exporter": "python",
   "pygments_lexer": "ipython3",
   "version": "3.11.6"
  }
 },
 "nbformat": 4,
 "nbformat_minor": 2
}
